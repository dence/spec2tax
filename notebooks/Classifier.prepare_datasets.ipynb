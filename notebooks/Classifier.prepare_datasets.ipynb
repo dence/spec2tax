{
 "cells": [
  {
   "cell_type": "markdown",
   "id": "bd69cfeb",
   "metadata": {},
   "source": [
    "# Spec2Tax: Predicting Sample Taxonomy from MS/MS Spectra\n",
    "\n",
    "##  Motivation\n",
    "\n",
    "\n",
    "Public mass spectral repositories contain a vast (about 1.2B) collection of mass spectra. Many of these spectra have attached metadata. A classifier trained to predict taxonomy of samples by the MS2 data could be applied to untargeted pharmacokinetics experiment to quickly discern between animal vs plant compounds.  "
   ]
  },
  {
   "cell_type": "markdown",
   "id": "8477540c",
   "metadata": {},
   "source": [
    "## Imports\n",
    "This notebook uses the metabolomics repo which is still in the works, but will hopefully be available as a package. https://github.com/enveda/sg-pipeline-dev"
   ]
  },
  {
   "cell_type": "code",
   "execution_count": 44,
   "id": "ecee7076",
   "metadata": {},
   "outputs": [],
   "source": [
    "import sys\n",
    "\n",
    "from pathlib import Path\n",
    "import pandas as pd\n",
    "from collections import defaultdict\n",
    "\n",
    "import numpy as np\n",
    "from collections import Counter\n",
    "from tqdm import tqdm\n",
    "import pickle5 as pickle\n",
    "import awswrangler as wr\n",
    "import os   \n",
    "import boto3\n",
    "from io import BytesIO\n",
    "\n",
    "from sklearn import linear_model, model_selection\n",
    "from sklearn.metrics import roc_auc_score, average_precision_score, auc, f1_score, recall_score\n",
    "from sklearn.model_selection import StratifiedKFold\n",
    "from sklearn.linear_model import MultiTaskElasticNetCV\n",
    "import logging\n",
    "from typing import List, Optional, Tuple, Union\n",
    "\n",
    "logger = logging.getLogger(__name__)\n",
    "\n",
    "#path to spec2vec embeddings of data collected from GNPS\n",
    "local_spec2vec = 'local_spec2vec'\n",
    "\n",
    "#setup a directory to hold the subsampled datasets\n",
    "local_results_dir = \"spec2tax\"\n",
    "if not os.path.exists(local_results_dir):\n",
    "    os.mkdir(local_results_dir)\n"
   ]
  },
  {
   "cell_type": "markdown",
   "id": "69709c87",
   "metadata": {},
   "source": [
    "# Sampling data\n",
    "Since there's too much data to hold in memory, we'll need to read from the locally saved pickles of spec2vec. We'll pull out the spec2vec embeddings and the taxonomic labels into two variables. "
   ]
  },
  {
   "cell_type": "code",
   "execution_count": null,
   "id": "d909a6e2",
   "metadata": {},
   "outputs": [],
   "source": [
    "tax_rank = 'class'\n",
    "def get_taxonomic_ranked_dataset(str:rank='class', str:dir=local_spec2vec):\n",
    "    labels = []\n",
    "    spec2vec_data = []\n",
    "\n",
    "    for file in tqdm(os.listdir(dir)):\n",
    "        df = pd.read_parquet(f\"{dir}/{file}\")\n",
    "        df = df[df[rank] != 'undefined']\n",
    "        labels.extend(list(df[rank]))\n",
    "        spec2vec_data.extend(list(df['spec2vec']))\n",
    "    return labels, spec2vec_data\n",
    "\n",
    "class_labels, class_data = get_taxonomic_ranked_dataset(rank='class',dir=local_spec2vec)\n",
    "family_labels, family_data = get_taxonomic_ranked_dataset(rank='family',dir=local_spec2vec)"
   ]
  },
  {
   "cell_type": "markdown",
   "id": "e80ca54a",
   "metadata": {},
   "source": [
    "Now that we have data and labels at the class and family taxonomic levels, we can prepare datasets from them. "
   ]
  },
  {
   "cell_type": "markdown",
   "id": "b8712813",
   "metadata": {},
   "source": [
    "There's clearly class imbalance in the data. For the task of classifying at the class-level in the taxonomy,\n",
    "lets choose the five most abundant classes: Coscinodiscophyceae (diatoms), Insecta (insects), Mammalia (mammals), Actinomycetia (bacteria), and Anthozoa(marine invertebrates). \n",
    "We'll leave out the Clitellata, Eurotiomycetes, Gammaproteobactria,and Magnoliopsida. "
   ]
  },
  {
   "cell_type": "code",
   "execution_count": null,
   "id": "b2843357",
   "metadata": {},
   "outputs": [],
   "source": [
    "new_X, new_y = [],[]\n",
    "for x,label in zip(class_data,class_labels):\n",
    "    if label in ['Clitellata','Eurotiomycetes','Gammaproteobacteria','Magnoliopsida']:\n",
    "        continue\n",
    "    new_X.append(x)\n",
    "    new_y.append(label)"
   ]
  },
  {
   "cell_type": "code",
   "execution_count": null,
   "id": "798d1df4",
   "metadata": {},
   "outputs": [],
   "source": [
    "#filter \"None\"s out of the data\n",
    "class_data, class_labels = zip(*[(embd,label) for embd,label in zip(new_X,new_y) if embd is not None])\n"
   ]
  },
  {
   "cell_type": "code",
   "execution_count": null,
   "id": "95f1322b",
   "metadata": {},
   "outputs": [],
   "source": [
    "def make_balanced_sample(labels, data, int:cap=5000):\n",
    "    import random\n",
    "\n",
    "    all_class_labels = []\n",
    "    all_class_data = []\n",
    "    for tmp_label in set(labels):\n",
    "        \n",
    "        tmp_data = []\n",
    "        for label,data in zip(labels,data):\n",
    "            if(label == tmp_label and len(tmp_data) < cap):\n",
    "                tmp_data.append(data)\n",
    "            else:\n",
    "                continue\n",
    "        all_class_labels += [tmp_label]*cap\n",
    "        all_class_data += tmp_data\n",
    "    return all_class_labels,all_class_data\n",
    "            \n",
    "balanced_class_labels,balanced_class_data = make_balanced_sample(list(class_labels),list(class_data))\n",
    "\n",
    "label_to_int_map = {result[0]:result[1] for result in zip(np.unique(new_y),range(0,len(np.unique(new_y))))}\n",
    "y_with_ints = [label_to_int_map[label] for label in new_y]\n",
    "\n",
    "y = np.array(balanced_class_labels)\n",
    "X = np.array(balanced_class_data)\n",
    "\n",
    "if(not os.path.exists(f\"{local_results_dir}/{tax_rank}/\")):\n",
    "    os.mkdir(f\"{local_results_dir}/{tax_rank}/\") \n",
    "pickle.dump(X,open(f\"spec2tax/{tax_rank}/X.pkl\",'wb'))\n",
    "pickle.dump(y_with_ints,open(f\"{local_results_dir}/{tax_rank}/y.pkl\",'wb'))"
   ]
  },
  {
   "cell_type": "markdown",
   "id": "e2e01c3f",
   "metadata": {},
   "source": [
    "Preparing the mammalia, gammaproteobacteria, and magnolipsida datasets"
   ]
  },
  {
   "cell_type": "code",
   "execution_count": null,
   "id": "45af420e",
   "metadata": {},
   "outputs": [],
   "source": [
    "tax_rank = 'Mammalia'  \n",
    "new_X, new_y = [],[]\n",
    "for x,label in zip(family_data,family_labels):\n",
    "    if label in ['Hominidae','Muridae','Rhinocerotidae']:\n",
    "        new_X.append(x)\n",
    "        new_y.append(label)\n",
    "        \n",
    "#filter \"None\"s out of the data\n",
    "family_data, family_labels = zip(*[(embd,label) for embd,label in zip(new_X,new_y) if embd is not None])\n",
    "\n",
    "balanced_family_labels,balanced_family_data = make_balanced_sample(list(family_labels),list(family_data))\n",
    "\n",
    "label_to_int_map = {result[0]:result[1] for result in zip(np.unique(new_y),range(0,len(np.unique(new_y))))}\n",
    "y_with_ints = [label_to_int_map[label] for label in new_y]\n",
    "\n",
    "y = np.array(balanced_class_labels)\n",
    "X = np.array(balanced_class_data)\n",
    "\n",
    "if(not os.path.exists(f\"{local_results_dir}/{tax_rank}/\")):\n",
    "    os.mkdir(f\"{local_results_dir}/{tax_rank}/\") \n",
    "pickle.dump(X,open(f\"{local_results_dir}/{tax_rank}/X.pkl\",'wb'))\n",
    "pickle.dump(y_with_ints,open(f\"{local_results_dir}/{tax_rank}/y.pkl\",'wb'))"
   ]
  },
  {
   "cell_type": "code",
   "execution_count": null,
   "id": "1a30eeab",
   "metadata": {},
   "outputs": [],
   "source": [
    "tax_rank = 'Gammaproteobacteria'  \n",
    "new_X, new_y = [],[]\n",
    "for x,label in zip(family_data,family_labels):\n",
    "    if label in ['Enterobacteriaceae','Morganellaceae']:\n",
    "        new_X.append(x)\n",
    "        new_y.append(label)\n",
    "        \n",
    "#filter \"None\"s out of the data\n",
    "family_data, family_labels = zip(*[(embd,label) for embd,label in zip(new_X,new_y) if embd is not None])\n",
    "\n",
    "balanced_family_labels,balanced_family_data = make_balanced_sample(list(family_labels),list(family_data),cap=1000)\n",
    "\n",
    "label_to_int_map = {result[0]:result[1] for result in zip(np.unique(new_y),range(0,len(np.unique(new_y))))}\n",
    "y_with_ints = [label_to_int_map[label] for label in new_y]\n",
    "\n",
    "y = np.array(balanced_class_labels)\n",
    "X = np.array(balanced_class_data)\n",
    "\n",
    "if(not os.path.exists(f\"{local_results_dir}/{tax_rank}/\")):\n",
    "    os.mkdir(f\"{local_results_dir}/{tax_rank}/\") \n",
    "pickle.dump(X,open(f\"{local_results_dir}/{tax_rank}/X.pkl\",'wb'))\n",
    "pickle.dump(y_with_ints,open(f\"{local_results_dir}/{tax_rank}/y.pkl\",'wb'))"
   ]
  },
  {
   "cell_type": "code",
   "execution_count": null,
   "id": "0e6724a6",
   "metadata": {},
   "outputs": [],
   "source": [
    "tax_rank = 'Magnoliopsida'  \n",
    "new_X, new_y = [],[]\n",
    "for x,label in zip(family_data,family_labels):\n",
    "    if label in ['Malvaceae','Euphorbiaceae','Moraceae']:\n",
    "        new_X.append(x)\n",
    "        new_y.append(label)\n",
    "        \n",
    "#filter \"None\"s out of the data\n",
    "family_data, family_labels = zip(*[(embd,label) for embd,label in zip(new_X,new_y) if embd is not None])\n",
    "\n",
    "balanced_family_labels,balanced_family_data = make_balanced_sample(list(family_labels),list(family_data),cap=500)\n",
    "\n",
    "label_to_int_map = {result[0]:result[1] for result in zip(np.unique(new_y),range(0,len(np.unique(new_y))))}\n",
    "y_with_ints = [label_to_int_map[label] for label in new_y]\n",
    "\n",
    "y = np.array(balanced_class_labels)\n",
    "X = np.array(balanced_class_data)\n",
    "\n",
    "if(not os.path.exists(f\"{local_results_dir}/{tax_rank}/\")):\n",
    "    os.mkdir(f\"{local_results_dir}/{tax_rank}/\") \n",
    "pickle.dump(X,open(f\"{local_results_dir}/{tax_rank}/X.pkl\",'wb'))\n",
    "pickle.dump(y_with_ints,open(f\"{local_results_dir}/{tax_rank}/y.pkl\",'wb'))"
   ]
  },
  {
   "cell_type": "code",
   "execution_count": null,
   "id": "dd17541a",
   "metadata": {},
   "outputs": [],
   "source": []
  }
 ],
 "metadata": {
  "interpreter": {
   "hash": "79380f7f7c33c68f2cc33244fe91d49521b1149bc870437d6f5092851a7b9a1d"
  },
  "kernelspec": {
   "display_name": "Python 3 (ipykernel)",
   "language": "python",
   "name": "python3"
  },
  "language_info": {
   "codemirror_mode": {
    "name": "ipython",
    "version": 3
   },
   "file_extension": ".py",
   "mimetype": "text/x-python",
   "name": "python",
   "nbconvert_exporter": "python",
   "pygments_lexer": "ipython3",
   "version": "3.7.10"
  },
  "vscode": {
   "interpreter": {
    "hash": "43fe3d43e4c3f6599c7d69a06a9c764a1fa57f9f2841efe6ac310016235ba3a7"
   }
  }
 },
 "nbformat": 4,
 "nbformat_minor": 5
}
